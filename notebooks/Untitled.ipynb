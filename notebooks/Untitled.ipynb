{
 "cells": [
  {
   "cell_type": "code",
   "execution_count": 1,
   "metadata": {},
   "outputs": [],
   "source": [
    "import os\n",
    "import hashlib\n",
    "import matplotlib.pyplot as plt\n",
    "import numpy as np\n",
    "import shutil\n",
    "import pyrouge\n",
    "import logging\n",
    "from collections import Counter, defaultdict\n",
    "\n",
    "\n",
    "REF_FOLDER = '../cloud_data/baseline/decode_test_400maxenc_4beam_35mindec_100maxdec_ckpt-55092/reference/'\n",
    "URL_LIST_FILE = '../prepare_data/cnn-dailymail/url_lists/small_test.txt'\n",
    "CNN_STORY_DIR = '/Users/j.zhou/mlp_project/prepare_data/cnn-dailymail/cnn_stories_tokenized/'\n",
    "DM_STORY_DIR = '/Users/j.zhou/mlp_project/prepare_data/cnn-dailymail/dm_stories_tokenized/'\n",
    "\n",
    "CNN_STORY_HASH = set(os.listdir('../prepare_data/cnn/stories/'))\n",
    "DM_STORY_HASH = set(os.listdir('../prepare_data/dailymail/stories/'))\n",
    "\n",
    "VOCAB_PATH = '../data/finished_files/vocab'\n",
    "\n",
    "with open(URL_LIST_FILE, 'r') as f:\n",
    "    URL_LIST = f.readlines()"
   ]
  },
  {
   "cell_type": "code",
   "execution_count": 2,
   "metadata": {},
   "outputs": [],
   "source": [
    "def get_ref(id_):\n",
    "    ref_folder = REF_FOLDER\n",
    "    ref_path = os.path.join(ref_folder, '{:06d}_reference.txt'.format(id_))\n",
    "    ret = []\n",
    "    with open(ref_path, 'r') as f:\n",
    "        for line in f:\n",
    "            words = line.strip().split()\n",
    "            ret.extend(words)\n",
    "    return ret\n",
    "\n",
    "\n",
    "def get_sum(id_, model):\n",
    "    model_path = os.path.join('../cloud_data/', model)\n",
    "    file_paths = os.listdir(model_path)\n",
    "    file_path = [path for path in file_paths if 'decode_test_400maxenc' in path][0]\n",
    "    decode_file_path = os.path.join(model_path, file_path, 'decoded', '{:06d}_decoded.txt'.format(id_))\n",
    "    ret = []\n",
    "    with open(decode_file_path, 'r') as f:\n",
    "        for line in f:\n",
    "            ret.extend(line.strip().split())\n",
    "    return ret"
   ]
  },
  {
   "cell_type": "code",
   "execution_count": 30,
   "metadata": {},
   "outputs": [
    {
     "data": {
      "text/plain": [
       "'http://web.archive.org/web/20150724170514id_/http://www.dailymail.co.uk/sciencetech/article-3038219/How-global-warming-HELPED-man-Earliest-humans-migrated-Europe-1-4-million-years-ago-thanks-rising-temperatures.html\\n'"
      ]
     },
     "execution_count": 30,
     "metadata": {},
     "output_type": "execute_result"
    }
   ],
   "source": [
    "URL_LIST[4743]"
   ]
  },
  {
   "cell_type": "code",
   "execution_count": 3,
   "metadata": {},
   "outputs": [],
   "source": [
    "def compare_ref_decode(line_id, models):\n",
    "    ref = ' '.join(get_ref(line_id))\n",
    "    print('line_id %d: REF ' % line_id)\n",
    "    print(ref)\n",
    "    for model in models:\n",
    "        decode = ' '.join(get_sum(line_id, model))\n",
    "        print('=' * 15)\n",
    "        print('model %s ' % model)\n",
    "        print(decode)\n",
    "\n",
    "def get_full_article(line_id):\n",
    "    url = URL_LIST[line_id][:-1]\n",
    "    def hashhex(s):\n",
    "        \"\"\"Returns a heximal formated SHA1 hash of the input string.\"\"\"\n",
    "        h = hashlib.sha1()\n",
    "        h.update(s.encode())\n",
    "        return h.hexdigest()\n",
    "    story_filename = hashhex(url) + '.story'\n",
    "    if story_filename in CNN_STORY_HASH:\n",
    "        story_filename = os.path.join(CNN_STORY_DIR, story_filename)\n",
    "    elif story_filename in DM_STORY_HASH:\n",
    "        story_filename = os.path.join(DM_STORY_DIR, story_filename)\n",
    "    else:\n",
    "        raise ValueError\n",
    "    ret = []\n",
    "    with open(story_filename, 'r') as f:\n",
    "        for line in f:\n",
    "            words = line.strip().split()\n",
    "            ret.extend([w.lower() for w in words])\n",
    "    return ret"
   ]
  },
  {
   "cell_type": "code",
   "execution_count": 4,
   "metadata": {},
   "outputs": [],
   "source": [
    "def build_vocab_freq():\n",
    "    cnt = Counter()\n",
    "    n = 0\n",
    "    with open(VOCAB_PATH, 'r') as f:\n",
    "        for line in f:\n",
    "            w, freq = line.strip().split(' ')\n",
    "            cnt[w] = int(freq)\n",
    "            n += 1\n",
    "    return cnt\n",
    "\n",
    "freq = build_vocab_freq()"
   ]
  },
  {
   "cell_type": "code",
   "execution_count": 5,
   "metadata": {},
   "outputs": [
    {
     "data": {
      "image/png": "[encoded data removed]",
      "text/plain": [
       "<Figure size 432x288 with 1 Axes>"
      ]
     },
     "metadata": {
      "needs_background": "light"
     },
     "output_type": "display_data"
    }
   ],
   "source": [
    "x = [tp[1] for tp in freq.most_common()[:50000]]\n",
    "arr = np.cumsum(x)\n",
    "plt.plot(range(len(x)), arr / arr[-1])\n",
    "plt.show()"
   ]
  },
  {
   "cell_type": "code",
   "execution_count": 6,
   "metadata": {},
   "outputs": [
    {
     "data": {
      "text/plain": [
       "0.975339353121123"
      ]
     },
     "execution_count": 6,
     "metadata": {},
     "output_type": "execute_result"
    }
   ],
   "source": [
    "ratio = arr / arr[-1]\n",
    "ratio[20000]"
   ]
  },
  {
   "cell_type": "markdown",
   "metadata": {},
   "source": [
    "# EVAL rouge on subset"
   ]
  },
  {
   "cell_type": "code",
   "execution_count": 7,
   "metadata": {},
   "outputs": [],
   "source": [
    "def rouge_eval(ref_dir, dec_dir):\n",
    "    \"\"\"Evaluate the files in ref_dir and dec_dir with pyrouge, returning results_dict\"\"\"\n",
    "    r = pyrouge.Rouge155()\n",
    "    r.model_filename_pattern = '#ID#_reference.txt'\n",
    "    r.system_filename_pattern = '(\\d+)_decoded.txt'\n",
    "    r.model_dir = ref_dir\n",
    "    r.system_dir = dec_dir\n",
    "    logging.getLogger('global').setLevel(\n",
    "        logging.WARNING)  # silence pyrouge logging\n",
    "    rouge_results = r.convert_and_evaluate()\n",
    "    return r.output_to_dict(rouge_results)\n",
    "\n",
    "def eval_rouge_on_subset(ids, models):\n",
    "    ret = {}\n",
    "    for model in models:\n",
    "        if os.path.exists('./tmp'):\n",
    "            shutil.rmtree('tmp')\n",
    "        os.mkdir('tmp')\n",
    "        os.mkdir('tmp/dec')\n",
    "        os.mkdir('tmp/ref')\n",
    "\n",
    "        for new_i, i in enumerate(ids):\n",
    "            src_ref = os.path.join(REF_FOLDER, '{:06d}_reference.txt'.format(i))\n",
    "\n",
    "            model_path = os.path.join('../cloud_data/', model)\n",
    "            file_paths = os.listdir(model_path)\n",
    "            file_path = [path for path in file_paths if 'decode_test_400maxenc' in path][0]\n",
    "            src_dec = os.path.join(model_path, file_path, 'decoded', '{:06d}_decoded.txt'.format(i))\n",
    "\n",
    "            shutil.copyfile(src_ref, 'tmp/ref/{:06d}_reference.txt'.format(i))\n",
    "            shutil.copyfile(src_dec, 'tmp/dec/{:06d}_decoded.txt'.format(i))\n",
    "            \n",
    "        ret[model] = rouge_eval('/Users/j.zhou/mlp_project/notebooks/tmp/ref',\n",
    "                         '/Users/j.zhou/mlp_project/notebooks/tmp/dec')\n",
    "\n",
    "        shutil.rmtree('tmp')\n",
    "        \n",
    "    return ret"
   ]
  },
  {
   "cell_type": "markdown",
   "metadata": {},
   "source": [
    "# Filter Rare Words\n",
    "let's define word after 40000 as rare words, words ranked after 50000 are UNK"
   ]
  },
  {
   "cell_type": "code",
   "execution_count": 8,
   "metadata": {},
   "outputs": [],
   "source": [
    "# unks = set(tp[0] for tp in freq.most_common()[50000:])\n",
    "freq_words = set(tp[0] for tp in freq.most_common()[:40000])\n",
    "\n",
    "def extract_articles(words):\n",
    "    ids, id_word_map = set(), defaultdict(set)\n",
    "    for i in range(5000):\n",
    "        article = set(get_full_article(i))\n",
    "        for w in article:\n",
    "            if w not in words:\n",
    "                ids.add(i)\n",
    "                id_word_map[i].add(w)\n",
    "    return ids, id_word_map\n",
    "\n",
    "ids, id_word_map = extract_articles(freq_words)"
   ]
  },
  {
   "cell_type": "code",
   "execution_count": 19,
   "metadata": {
    "scrolled": true
   },
   "outputs": [],
   "source": [
    "new_ids = []\n",
    "for id_ in id_word_map:\n",
    "    if len(id_word_map[id_]) >= 20:\n",
    "        new_ids.append(id_)"
   ]
  },
  {
   "cell_type": "code",
   "execution_count": 20,
   "metadata": {},
   "outputs": [
    {
     "data": {
      "text/plain": [
       "772"
      ]
     },
     "execution_count": 20,
     "metadata": {},
     "output_type": "execute_result"
    }
   ],
   "source": [
    "len(new_ids)"
   ]
  },
  {
   "cell_type": "code",
   "execution_count": 21,
   "metadata": {
    "scrolled": true
   },
   "outputs": [],
   "source": [
    "rouge_scores_baseline = eval_rouge_on_subset(new_ids, ['baseline', 'baseline_coverage'])\n",
    "rouge_scores_char_cat = eval_rouge_on_subset(new_ids, ['char_concate', 'char_concate_coverage'])\n",
    "rouge_scores_char_enc = eval_rouge_on_subset(new_ids, ['char_encoder', 'char_encoder_coverage'])"
   ]
  },
  {
   "cell_type": "code",
   "execution_count": 22,
   "metadata": {},
   "outputs": [
    {
     "data": {
      "text/plain": [
       "0.32261"
      ]
     },
     "execution_count": 22,
     "metadata": {},
     "output_type": "execute_result"
    }
   ],
   "source": [
    "rouge_scores_baseline['baseline']['rouge_1_f_score']"
   ]
  },
  {
   "cell_type": "code",
   "execution_count": 23,
   "metadata": {},
   "outputs": [
    {
     "data": {
      "text/plain": [
       "0.33268"
      ]
     },
     "execution_count": 23,
     "metadata": {},
     "output_type": "execute_result"
    }
   ],
   "source": [
    "rouge_scores_baseline['baseline_coverage']['rouge_1_f_score']"
   ]
  },
  {
   "cell_type": "code",
   "execution_count": 24,
   "metadata": {},
   "outputs": [
    {
     "data": {
      "text/plain": [
       "0.33018"
      ]
     },
     "execution_count": 24,
     "metadata": {},
     "output_type": "execute_result"
    }
   ],
   "source": [
    "rouge_scores_char_cat['char_concate_coverage']['rouge_1_f_score']"
   ]
  },
  {
   "cell_type": "code",
   "execution_count": 25,
   "metadata": {},
   "outputs": [
    {
     "data": {
      "text/plain": [
       "0.33102"
      ]
     },
     "execution_count": 25,
     "metadata": {},
     "output_type": "execute_result"
    }
   ],
   "source": [
    "rouge_scores_char_cat['char_concate']['rouge_1_f_score']"
   ]
  },
  {
   "cell_type": "code",
   "execution_count": 26,
   "metadata": {},
   "outputs": [
    {
     "data": {
      "text/plain": [
       "0.3275"
      ]
     },
     "execution_count": 26,
     "metadata": {},
     "output_type": "execute_result"
    }
   ],
   "source": [
    "rouge_scores_char_enc['char_encoder_coverage']['rouge_1_f_score']"
   ]
  },
  {
   "cell_type": "code",
   "execution_count": 27,
   "metadata": {},
   "outputs": [
    {
     "data": {
      "text/plain": [
       "0.33289"
      ]
     },
     "execution_count": 27,
     "metadata": {},
     "output_type": "execute_result"
    }
   ],
   "source": [
    "rouge_scores_char_enc['char_encoder']['rouge_1_f_score']"
   ]
  },
  {
   "cell_type": "code",
   "execution_count": 9,
   "metadata": {},
   "outputs": [
    {
     "ename": "NameError",
     "evalue": "name 'new_id_word_map' is not defined",
     "output_type": "error",
     "traceback": [
      "\u001b[0;31m---------------------------------------------------------------------------\u001b[0m",
      "\u001b[0;31mNameError\u001b[0m                                 Traceback (most recent call last)",
      "\u001b[0;32m<ipython-input-9-7d72143163fc>\u001b[0m in \u001b[0;36m<module>\u001b[0;34m()\u001b[0m\n\u001b[1;32m      9\u001b[0m     \u001b[0;32mreturn\u001b[0m \u001b[0mret\u001b[0m\u001b[0;34m\u001b[0m\u001b[0m\n\u001b[1;32m     10\u001b[0m \u001b[0;34m\u001b[0m\u001b[0m\n\u001b[0;32m---> 11\u001b[0;31m \u001b[0mret\u001b[0m \u001b[0;34m=\u001b[0m \u001b[0mextract_summary_with_rare_words\u001b[0m\u001b[0;34m(\u001b[0m\u001b[0;34m[\u001b[0m\u001b[0;34m'baseline'\u001b[0m\u001b[0;34m,\u001b[0m \u001b[0;34m'char_encoder'\u001b[0m\u001b[0;34m,\u001b[0m \u001b[0;34m'char_concate'\u001b[0m\u001b[0;34m]\u001b[0m\u001b[0;34m,\u001b[0m \u001b[0mnew_id_word_map\u001b[0m\u001b[0;34m)\u001b[0m\u001b[0;34m\u001b[0m\u001b[0m\n\u001b[0m",
      "\u001b[0;31mNameError\u001b[0m: name 'new_id_word_map' is not defined"
     ]
    }
   ],
   "source": [
    "def extract_summary_with_rare_words(models, id_word_map):\n",
    "    ret = defaultdict(list)\n",
    "    for id_ in id_word_map:\n",
    "        for model in models:\n",
    "            dec = set(get_sum(id_, model))\n",
    "            for word in id_word_map[id_]:\n",
    "                if word in dec:\n",
    "                    ret[(id_, word)].append(model)\n",
    "    return ret\n",
    "\n",
    "ret = extract_summary_with_rare_words(['baseline', 'char_encoder', 'char_concate'], new_id_word_map)"
   ]
  },
  {
   "cell_type": "code",
   "execution_count": 29,
   "metadata": {},
   "outputs": [
    {
     "name": "stdout",
     "output_type": "stream",
     "text": [
      "line_id 4743: REF \n",
      "spanish researchers say climate change impacted human migration . until 1.4 million years ago it was too cold to inhabit southeast spain . but then the climate warmed to 13 °c -lrb- 55 °f -rrb- and became more humid . this enabled hominins - our distant ancestors - to move to new regions .\n",
      "===============\n",
      "model baseline \n",
      "researchers believe the spread of our distant human ancestors had been halted by colder and drier temperatures . but as conditions warmed , they were able to branch out from africa into spain , and ultimately spread across europe .\n",
      "===============\n",
      "model char_concate \n",
      "researchers believe that the spread of our distant human ancestors , the hominins , had been halted by colder and drier temperatures . but as conditions warmed , they were able to branch out from africa into spain , and ultimately spread across europe .\n",
      "===============\n",
      "model char_encoder \n",
      "researchers believe the spread of our distant human ancestors , the hominins , had been halted by colder and drier temperatures . but as conditions warmed , they were able to branch out from africa into spain , and ultimately spread across europe . until 1.4 million years ago it was too cold to inhabit southeast spain .\n"
     ]
    }
   ],
   "source": [
    "compare_ref_decode(4743, ['baseline', 'char_concate', 'char_encoder'])"
   ]
  },
  {
   "cell_type": "markdown",
   "metadata": {},
   "source": [
    "# POS can handle name"
   ]
  },
  {
   "cell_type": "code",
   "execution_count": null,
   "metadata": {},
   "outputs": [],
   "source": [
    "print(get_full_article(456))"
   ]
  },
  {
   "cell_type": "code",
   "execution_count": null,
   "metadata": {},
   "outputs": [],
   "source": [
    "compare_ref_decode(456, ['baseline', 'baseline_coverage', 'char_concate', 'char_concate_coverage', 'pos_concate', 'pos_concate_coverage'])"
   ]
  },
  {
   "cell_type": "code",
   "execution_count": null,
   "metadata": {},
   "outputs": [],
   "source": [
    "import sys\n",
    "sys.path.append('../pointer-generator/pos_tagger/')\n",
    "from pos_tagging import get_POS_tagged_sent"
   ]
  },
  {
   "cell_type": "code",
   "execution_count": null,
   "metadata": {},
   "outputs": [],
   "source": [
    "get_POS_tagged_sent('Model and environmental scientist Laura Wells uses figure to flaunt ocean inspired swimwear .'.split())"
   ]
  },
  {
   "cell_type": "code",
   "execution_count": null,
   "metadata": {},
   "outputs": [],
   "source": [
    "compare_ref_decode(4777, ['baseline', 'pos_encoder', 'char_concate'])"
   ]
  },
  {
   "cell_type": "code",
   "execution_count": null,
   "metadata": {},
   "outputs": [],
   "source": [
    "article = get_full_article(4978)"
   ]
  },
  {
   "cell_type": "markdown",
   "metadata": {},
   "source": [
    "# How abstractive"
   ]
  },
  {
   "cell_type": "code",
   "execution_count": null,
   "metadata": {},
   "outputs": [],
   "source": [
    "def who_create_new_word(models, line_ids=None):\n",
    "    if line_ids is None:\n",
    "        line_ids = range(5000)\n",
    "    \n",
    "    ret = defaultdict(dict)\n",
    "    for line_id in line_ids:\n",
    "        art = set(get_full_article(line_id))\n",
    "        for model in models:\n",
    "            model_words = set(get_sum(line_id, model))\n",
    "            diff = model_words - art\n",
    "            if len(diff) > 0:\n",
    "                ret[line_id][model] = diff\n",
    "    return ret"
   ]
  },
  {
   "cell_type": "code",
   "execution_count": null,
   "metadata": {},
   "outputs": [],
   "source": [
    "res = who_create_new_word(['baseline', 'char_concate', 'char_encoder', 'char_pos_concate', 'char_pos_encoder'])"
   ]
  },
  {
   "cell_type": "code",
   "execution_count": null,
   "metadata": {
    "scrolled": false
   },
   "outputs": [],
   "source": [
    "res"
   ]
  }
 ],
 "metadata": {
  "kernelspec": {
   "display_name": "Python 3",
   "language": "python",
   "name": "python3"
  },
  "language_info": {
   "codemirror_mode": {
    "name": "ipython",
    "version": 3
   },
   "file_extension": ".py",
   "mimetype": "text/x-python",
   "name": "python",
   "nbconvert_exporter": "python",
   "pygments_lexer": "ipython3",
   "version": "3.5.6"
  }
 },
 "nbformat": 4,
 "nbformat_minor": 2
}

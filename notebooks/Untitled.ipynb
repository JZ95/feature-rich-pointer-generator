{
 "cells": [
  {
   "cell_type": "code",
   "execution_count": 161,
   "metadata": {},
   "outputs": [],
   "source": [
    "import os\n",
    "import hashlib\n",
    "import matplotlib.pyplot as plt\n",
    "import numpy as np\n",
    "import shutil\n",
    "import pyrouge\n",
    "import logging\n",
    "from collections import Counter, defaultdict\n",
    "\n",
    "\n",
    "REF_FOLDER = '../cloud_data/baseline/decode_test_400maxenc_4beam_35mindec_100maxdec_ckpt-55092/reference/'\n",
    "URL_LIST_FILE = '../prepare_data/cnn-dailymail/url_lists/small_test.txt'\n",
    "CNN_STORY_DIR = '/Users/j.zhou/mlp_project/prepare_data/cnn-dailymail/cnn_stories_tokenized/'\n",
    "DM_STORY_DIR = '/Users/j.zhou/mlp_project/prepare_data/cnn-dailymail/dm_stories_tokenized/'\n",
    "\n",
    "CNN_STORY_HASH = set(os.listdir('../prepare_data/cnn/stories/'))\n",
    "DM_STORY_HASH = set(os.listdir('../prepare_data/dailymail/stories/'))\n",
    "\n",
    "VOCAB_PATH = '../data/finished_files/vocab'\n",
    "\n",
    "with open(URL_LIST_FILE, 'r') as f:\n",
    "    URL_LIST = f.readlines()"
   ]
  },
  {
   "cell_type": "code",
   "execution_count": 82,
   "metadata": {},
   "outputs": [],
   "source": [
    "def get_ref(line_id):\n",
    "    ref_folder = REF_FOLDER\n",
    "    ref_path = os.path.join(ref_folder, '{:06d}_reference.txt'.format(line_id))\n",
    "    with open(ref_path, 'r') as f:\n",
    "        ref = ''.join(f.readlines())\n",
    "    return ref"
   ]
  },
  {
   "cell_type": "code",
   "execution_count": 163,
   "metadata": {},
   "outputs": [],
   "source": [
    "def compare_ref_decode(line_id, models):\n",
    "    ref_folder = REF_FOLDER\n",
    "    ref_path = os.path.join(ref_folder, '{:06d}_reference.txt'.format(line_id))\n",
    "    with open(ref_path, 'r') as f:\n",
    "        ref = ''.join(f.readlines())\n",
    "    print('line_id %d: REF ' % line_id)\n",
    "    print(ref)\n",
    "    for model in models:\n",
    "        model_path = os.path.join('../cloud_data/', model)\n",
    "        file_paths = os.listdir(model_path)\n",
    "        file_path = [path for path in file_paths if 'decode_test_400maxenc' in path][0]\n",
    "        decode_file_path = os.path.join(model_path, file_path, 'decoded', '{:06d}_decoded.txt'.format(line_id))\n",
    "        with open(decode_file_path, 'r') as f:\n",
    "            decode = ''.join(f.readlines())\n",
    "        print('=' * 15)\n",
    "        print('model %s ' % model)\n",
    "        print(decode)\n",
    "\n",
    "def get_full_article(line_id):\n",
    "    url = URL_LIST[line_id][:-1]\n",
    "    def hashhex(s):\n",
    "        \"\"\"Returns a heximal formated SHA1 hash of the input string.\"\"\"\n",
    "        h = hashlib.sha1()\n",
    "        h.update(s.encode())\n",
    "        return h.hexdigest()\n",
    "    story_filename = hashhex(url) + '.story'\n",
    "    if story_filename in CNN_STORY_HASH:\n",
    "        story_filename = os.path.join(CNN_STORY_DIR, story_filename)\n",
    "    elif story_filename in DM_STORY_HASH:\n",
    "        story_filename = os.path.join(DM_STORY_DIR, story_filename)\n",
    "    else:\n",
    "        raise ValueError\n",
    "    with open(story_filename, 'r') as f:\n",
    "        return ''.join(f.readlines())"
   ]
  },
  {
   "cell_type": "code",
   "execution_count": 151,
   "metadata": {},
   "outputs": [],
   "source": [
    "def build_vocab_freq():\n",
    "    cnt = Counter()\n",
    "    n = 0\n",
    "    with open(VOCAB_PATH, 'r') as f:\n",
    "        for line in f:\n",
    "            w, freq = line.strip().split(' ')\n",
    "            cnt[w] = int(freq)\n",
    "            n += 1\n",
    "    return cnt\n",
    "\n",
    "freq = build_vocab_freq()"
   ]
  },
  {
   "cell_type": "code",
   "execution_count": 40,
   "metadata": {},
   "outputs": [
    {
     "data": {
      "image/png": "[encoded data removed]",
      "text/plain": [
       "<Figure size 432x288 with 1 Axes>"
      ]
     },
     "metadata": {
      "needs_background": "light"
     },
     "output_type": "display_data"
    }
   ],
   "source": [
    "x = [tp[1] for tp in freq.most_common()[:50000]]\n",
    "arr = np.cumsum(x)\n",
    "plt.plot(range(len(x)), arr / arr[-1])\n",
    "plt.show()"
   ]
  },
  {
   "cell_type": "code",
   "execution_count": 44,
   "metadata": {},
   "outputs": [
    {
     "data": {
      "text/plain": [
       "0.975339353121123"
      ]
     },
     "execution_count": 44,
     "metadata": {},
     "output_type": "execute_result"
    }
   ],
   "source": [
    "ratio = arr / arr[-1]\n",
    "ratio[20000]"
   ]
  },
  {
   "cell_type": "markdown",
   "metadata": {},
   "source": [
    "# EVAL rouge on subset"
   ]
  },
  {
   "cell_type": "code",
   "execution_count": 146,
   "metadata": {},
   "outputs": [],
   "source": [
    "def rouge_eval(ref_dir, dec_dir):\n",
    "    \"\"\"Evaluate the files in ref_dir and dec_dir with pyrouge, returning results_dict\"\"\"\n",
    "    r = pyrouge.Rouge155()\n",
    "    r.model_filename_pattern = '#ID#_reference.txt'\n",
    "    r.system_filename_pattern = '(\\d+)_decoded.txt'\n",
    "    r.model_dir = ref_dir\n",
    "    r.system_dir = dec_dir\n",
    "    logging.getLogger('global').setLevel(\n",
    "        logging.WARNING)  # silence pyrouge logging\n",
    "    rouge_results = r.convert_and_evaluate()\n",
    "    return r.output_to_dict(rouge_results)\n",
    "\n",
    "def eval_rouge_on_subset(ids, models):\n",
    "    ret = {}\n",
    "    for model in models:\n",
    "        if os.path.exists('./tmp'):\n",
    "            shutil.rmtree('tmp')\n",
    "        os.mkdir('tmp')\n",
    "        os.mkdir('tmp/dec')\n",
    "        os.mkdir('tmp/ref')\n",
    "\n",
    "        for new_i, i in enumerate(ids):\n",
    "            src_ref = os.path.join(REF_FOLDER, '{:06d}_reference.txt'.format(i))\n",
    "\n",
    "            model_path = os.path.join('../cloud_data/', model)\n",
    "            file_paths = os.listdir(model_path)\n",
    "            file_path = [path for path in file_paths if 'decode_test_400maxenc' in path][0]\n",
    "            src_dec = os.path.join(model_path, file_path, 'decoded', '{:06d}_decoded.txt'.format(i))\n",
    "\n",
    "            shutil.copyfile(src_ref, 'tmp/ref/{:06d}_reference.txt'.format(i))\n",
    "            shutil.copyfile(src_dec, 'tmp/dec/{:06d}_decoded.txt'.format(i))\n",
    "            \n",
    "        ret[model] = rouge_eval('/Users/j.zhou/mlp_project/notebooks/tmp/ref',\n",
    "                         '/Users/j.zhou/mlp_project/notebooks/tmp/dec')\n",
    "\n",
    "        shutil.rmtree('tmp')\n",
    "        \n",
    "    return ret\n",
    "\n",
    "rouge_scores = eval_rouge_on_subset(ids, ['baseline', 'char_concate', 'char_encoder'])"
   ]
  },
  {
   "cell_type": "code",
   "execution_count": 183,
   "metadata": {},
   "outputs": [],
   "source": [
    "rouge_scores = eval_rouge_on_subset(new_ids, ['baseline', 'char_concate', 'char_encoder'])"
   ]
  },
  {
   "cell_type": "code",
   "execution_count": 185,
   "metadata": {},
   "outputs": [],
   "source": [
    "rouge_scores_pos = eval_rouge_on_subset(new_ids, ['pos_concate', 'pos_encoder'])"
   ]
  },
  {
   "cell_type": "markdown",
   "metadata": {},
   "source": [
    "# Filter Rare Words\n",
    "let's define word after 40000 as rare words, words ranked after 50000 are UNK"
   ]
  },
  {
   "cell_type": "code",
   "execution_count": 170,
   "metadata": {},
   "outputs": [],
   "source": [
    "unks = set(tp[0] for tp in freq.most_common()[50000:])\n",
    "\n",
    "def extract_articles(words):\n",
    "    ids, id_word_map = set(), defaultdict(set)\n",
    "    for i in range(5000):\n",
    "        article = get_full_article(i).split()\n",
    "        for w in article:\n",
    "            if w in words:\n",
    "                ids.add(i)\n",
    "                id_word_map[i].add(w)\n",
    "    return ids, id_word_map\n",
    "\n",
    "ids, id_word_map = extract_articles(unks)"
   ]
  },
  {
   "cell_type": "code",
   "execution_count": 181,
   "metadata": {
    "scrolled": true
   },
   "outputs": [],
   "source": [
    "new_ids = []\n",
    "for id_ in id_word_map:\n",
    "    if len(id_word_map[id_]) > 5:\n",
    "        new_ids.append(id_)"
   ]
  },
  {
   "cell_type": "code",
   "execution_count": 192,
   "metadata": {},
   "outputs": [
    {
     "name": "stdout",
     "output_type": "stream",
     "text": [
      "Chances are you 've been to Malaga . Well , the airport at any rate . Every year , millions of us pass through on the way to the beaches of the Costa del Sol or palaces of Granada .\n",
      "\n",
      "But , now , the southern Spanish port is having a moment .\n",
      "\n",
      "Thanks to a multi-million pound regeneration project , and several new galleries and museums , this once down-at-heel city has become one of Europe 's hippest destinations .\n",
      "\n",
      "Incoming : The Centre Pompidou Malaga , a pop-up version of the Parisian institution , has opened to visitors\n",
      "\n",
      "Along with a thriving cultural scene , there are good restaurants , great shopping and exciting nightlife .\n",
      "\n",
      "This week saw the opening of Centre Pompidou Malaga , the first of several popup versions of the famous Parisian gallery planned outside France .\n",
      "\n",
      "It is housed in a low-slung white building topped with a giant glass cube in the trendy harbour area .\n",
      "\n",
      "When I turn up , a large crowd is queuing to pay the £ 6.70 entrance fee to view 90 works by artists such as Miro , Magritte and Picasso on loan from the Pompidou in France , plus an exhibition exploring dance and choreography .\n",
      "\n",
      "There 's a brilliant room of self-portraits , including a Francis Bacon and Frida Kahlo .\n",
      "\n",
      "Drawing a big huddle is Kader Attia 's striking installation , Ghost -- a mass of Muslim women in prayer , made from tin foil .\n",
      "\n",
      "Pompidou is the latest bold step in branding Malaga a ` City of Museums ' .\n",
      "\n",
      "Across town , the first overseas branch of St Petersburg State Russian Museum has just opened in a refurbished tobacco factory .\n",
      "\n",
      "Take a good look : Gibralfaro Castle offers fine views of the city , with the Mediterranean as a wide backdrop\n",
      "\n",
      "Next door is the Malaga Automobile Museum , an extraordinary celebration of cars , fashion and art .\n",
      "\n",
      "By 2016 , a Museum of Fine Arts and Archaeology will complete the set .\n",
      "\n",
      "Malaga 's Picasso Museum opened in 2003 -- a long-held dream of the artist , who was born in the city in 1881 .\n",
      "\n",
      "The Automobile Museum in Malaga houses around 90 classic cars , plus displays of haute couture\n",
      "\n",
      "Round the corner , you can peek into Santiago church where he was baptised .\n",
      "\n",
      "The Picasso Birthplace Museum in the house where he lived until he was ten , contains more paintings , ceramics , early photos , belongings and sketchbooks .\n",
      "\n",
      "What sets Malaga apart -- for now , at least -- is that all these galleries tend to be uncrowded , refreshingly small , and most in walking distance of each other .\n",
      "\n",
      "That means there 's plenty of time to explore Andalusian cuisine .\n",
      "\n",
      "Get in the mood at the buzzing Atarazanas market , then try the terrace at El Pimpi , which overlooks the Roman amphitheatre .\n",
      "\n",
      "For unbeatable seafood , take the bus to the beach at Pedregalejo on the city 's outskirts , where locals feast on freshly caught boquerones -LRB- anchovies , often deep fried -RRB- , espetos -LRB- sardines , barbecued on sticks -RRB- and platters of enormous mussels , prawns and clams .\n",
      "\n",
      "For modern minimalism , head to the sleek gastrobars of the arty Soho district , such as KGB , where punky young things queue for tables .\n",
      "\n",
      "` Seville just stays the same , ' one girl tells me over fusion tapas and a beer . ` Malaga is moving on . '\n",
      "\n",
      "Green and pleasant : Malaga 's botanical garden plays host to exotic plants from around the world\n",
      "\n",
      "Near the Pompidou is the city 's botanic gardens , rated as one of the best in Europe and bursting with palms , exotic plants and squawking birds .\n",
      "\n",
      "Also to see are the Moorish Alcazaba fortress and Gibralfaro castle , where you can enjoy fabulous panoramic views of the city .\n",
      "\n",
      "Visitor numbers are already soaring -- with some people saying Malaga will be like Barcelona in ten years ' time . I 'm tempted to agree with them .\n",
      "\n",
      "British Airways -LRB- 0844 4930787 , www.ba.com -RRB- has daily flights from London to Malaga from £ 82 return .\n",
      "\n",
      "The four-star Hotel Guadalmedina -LRB- www.hotelguadalmedina.es -RRB- offers double rooms from € 70 , room only .\n",
      "\n",
      "More on the Pompidou Centre Malaga : www.centrepompidou.es\n",
      "\n",
      "@highlight\n",
      "\n",
      "Visitor numbers to the Spanish port are soaring and they are set to rise\n",
      "\n",
      "@highlight\n",
      "\n",
      "Pop-up gallery , Centre Pompidou Malaga , opened this week , in a giant cube\n",
      "\n",
      "@highlight\n",
      "\n",
      "A Museum of Fine Arts and Archaeology will open to the public in 2016\n"
     ]
    }
   ],
   "source": [
    "print(get_full_article(3))"
   ]
  },
  {
   "cell_type": "code",
   "execution_count": 194,
   "metadata": {},
   "outputs": [
    {
     "name": "stdout",
     "output_type": "stream",
     "text": [
      "line_id 8: REF \n",
      "c.j miles and george hill were in impressive form during win over wizards .\n",
      "pacers have chance of making fifth straight playoff appearance .\n",
      "la lakers won final game in regular season against phoenix suns .\n",
      "===============\n",
      "model baseline \n",
      "indiana pacers guard c.j. miles scored 25 points during his side 's vital win over the washington wizards .\n",
      "george hill also played a major role in the pacers ' victory against the wizards at the bankers life fieldhouse .\n",
      "the clippers clinched the west 's no 3 seed with the win .\n",
      "===============\n",
      "model char_concate \n",
      "the pacers -lrb- 38-43 -rrb- have won six straight games and will make a fifth straight playoff appearance if they win at memphis .\n",
      "martin gortat and bradley beal each scored 19 points for the wizards -lrb- 46-35 -rrb- .\n",
      "indiana pacers guard c.j. miles scored 25 points during his side 's vital win over the washington wizards .\n",
      "===============\n",
      "model char_encoder \n",
      "indiana pacers guard c.j. miles scored 25 points for indiana pacers guard c.j. miles scored 25 points .\n",
      "george hill also played a major role in the pacers ' victory against the wizards at the bankers life fieldhouse .\n",
      "george hill also played a major role in the pacers ' victory against the wizards .\n"
     ]
    }
   ],
   "source": [
    "compare_ref_decode(8, ['baseline', 'char_concate', 'char_encoder'])"
   ]
  },
  {
   "cell_type": "code",
   "execution_count": 198,
   "metadata": {},
   "outputs": [
    {
     "data": {
      "text/plain": [
       "{'137,000',\n",
       " 'bejewelled',\n",
       " 'diamantes',\n",
       " 'fringing',\n",
       " 'gilet',\n",
       " 'high-impact',\n",
       " 'jewelled',\n",
       " 'ombre',\n",
       " 'plimsolls',\n",
       " 'tassel',\n",
       " 'unpick',\n",
       " 'waisted'}"
      ]
     },
     "execution_count": 198,
     "metadata": {},
     "output_type": "execute_result"
    }
   ],
   "source": [
    "id_word_map[306]"
   ]
  },
  {
   "cell_type": "code",
   "execution_count": 195,
   "metadata": {
    "scrolled": false
   },
   "outputs": [
    {
     "name": "stdout",
     "output_type": "stream",
     "text": [
      "C.J. Miles scored 25 points and George Hill added 24 to lead a 7-2 spurt to open the second overtime on Tuesday as Indiana kept their playoff hopes alive with a 99-95 victory over Washington .\n",
      "\n",
      "The Pacers -LRB- 38-43 -RRB- have won six straight games and will make a fifth straight playoff appearance if they win at Memphis - or if Brooklyn loses to Orlando - on the final night of the regular season .\n",
      "\n",
      "Martin Gortat and Bradley Beal each scored 19 points for the Wizards -LRB- 46-35 -RRB- .\n",
      "\n",
      "Indiana Pacers guard C.J. Miles scored 25 points during his side 's vital win over the Washington Wizards\n",
      "\n",
      "George Hill also played a major role in the Pacers ' victory against the Wizards at the Bankers Life Fieldhouse\n",
      "\n",
      "It was a grind for the Pacers , who struggled shooting all night and trailed 70-61 with 7:07 left .\n",
      "\n",
      "They rallied to take a late 79-75 lead , then Washington forced overtime . Indiana did n't lead again until Hill 's mid-range jumper 23 seconds into the second overtime made it 87-85 . And Hill finally sealed it with a three-pointer with 27.8 seconds left .\n",
      "\n",
      "Clippers point guard Chris Paul 's 22 points , including six three-pointers , led Los Angeles over the injury-depleted Phoenix Suns 112-101 in LA 's final regular-season game before the playoffs .\n",
      "\n",
      "The Clippers clinched the West 's No 3 seed with the win .\n",
      "\n",
      "Blake Griffin hit his first six shots on his way to 20 points as Clippers coach Doc Rivers gave his starters major minutes with a higher playoff seeding on the line . DeAndre Jordan had 13 points and 14 rebounds , setting the Clippers ' single-season record for rebounds in a season .\n",
      "\n",
      "The Los Angeles Lakers won their final game of the regular season by defeating Phoenix Suns\n",
      "\n",
      "Los Angeles -LRB- 56-26 -RRB- can finish with the No 2 seed if the San Antonio Spurs and Houston Rockets lose their final games on Wednesday .\n",
      "\n",
      "The Suns were down to eight available players , Archie Goodwin leading Phoenix with a season-high 18 points .\n",
      "\n",
      "In Boston , Jae Crowder hit an off-balance fall-away shot from deep on the right wing with 0.8 seconds left as the Celtics edged the Toronto Raptors 95-93 to secure the seventh seed in the Eastern Conference .\n",
      "\n",
      "Evan Turner and Avery Bradley each scored 14 points for Boston , who will face No 2 seed Cleveland in the playoffs . Brandon Bass added 13 points and nine rebounds .\n",
      "\n",
      "It was the fifth straight win for the Celtics , who clinched a playoff spot on Monday when Brooklyn lost .\n",
      "\n",
      "Kyle Lowry had 16 points for the Raptors , who are locked into the fourth seed and will face Washington . Toronto beat the Wizards in all three meetings this season .\n",
      "\n",
      "Lou Williams also had 16 points for Toronto , Terrence Ross scored 12 and Jonas Valanciunas ' 11 .\n",
      "\n",
      "@highlight\n",
      "\n",
      "C.J Miles and George Hill were in impressive form during win over Wizards\n",
      "\n",
      "@highlight\n",
      "\n",
      "Pacers have chance of making fifth straight playoff appearance\n",
      "\n",
      "@highlight\n",
      "\n",
      "LA Lakers won final game in regular season against Phoenix Suns\n"
     ]
    }
   ],
   "source": [
    "print(get_full_article(8))"
   ]
  },
  {
   "cell_type": "markdown",
   "metadata": {},
   "source": [
    "# POS can handle name"
   ]
  },
  {
   "cell_type": "code",
   "execution_count": 6,
   "metadata": {},
   "outputs": [
    {
     "name": "stdout",
     "output_type": "stream",
     "text": [
      "She has already taken the modelling world by storm, being snapped up to front campaigns for The Upside, Myer, Berlei and ASOS, to name a few.\n",
      "\n",
      "And now like Megan Gale, Jennifer Hawkins and Elle Macpherson before her, plus-size queen Laura Wells has turned her hand to designing.\n",
      "\n",
      "The brunette bombshell has launched a new swimwear line with a twist - the eco-friendly collection is made entirely of 100 per cent recycled material.\n",
      "\n",
      "Scroll down for video  \n",
      "\n",
      "Curves to coral: Model and environmental scientist Laura Wells uses figure to flaunt ocean inspired swimwear \n",
      "\n",
      "Sizzling: The Australian beauty smoulders in the campaign\n",
      "\n",
      "The environmental scientist turned model designed the line in collaboration with US brand Swimsuits For All's trend range, SwimSexy.\n",
      "\n",
      "The collection is inspired by the ocean, with coral reef scenes featuring throughout.\n",
      "\n",
      "The line includes one and two-piece suits, with zippers, criss-cross straps, plunging V-necklines and high-waisted bottoms.\n",
      "\n",
      "The swimsuits cater for every shape, with sizes ranging from 10 through to 24.\n",
      "\n",
      " Environmentally-friendly: The swimsuits are made form 100 per cent recycled materials\n",
      "\n",
      "Cut well: The swimwear features plunging v-necks, criss-cross straps and flattering cuts for all shapes \n",
      "\n",
      "Wells revealed that the idea for the collaboration came about through a conversation she had with the brand while she was working with them on a photoshoot.\n",
      "\n",
      "'I can’t think of anyone else making eco-friendly, fashion-forward suits for curvy girls,' Laura told US website Refinery 29.\n",
      "\n",
      "Laura smoulders in the campaign shots for the collection, lounging on a hammock in a clear blue ocean wearing the coral reef one-piece, which she said was her favourite from the collaboration. \n",
      "\n",
      "Reef range: The swimsuits feature coral reef inspired designs, reflecting model's Australian background\n",
      "\n",
      "She said the primary challenge was finding environmentally-friendly material while keeping prices affordable.\n",
      "\n",
      "'Recycled fabrics can be very expensive and it was important for us to keep the price point affordable,' she said. \n",
      "\n",
      "'Also, swim fabrics need to be able to withstand a lot - sun, chlorine, saltwater - so the research and development process took a while.' \n",
      "\n",
      "@highlight\n",
      "\n",
      "Australian plus size model Laura Wells releases eco-friendly swimwear\n",
      "\n",
      "@highlight\n",
      "\n",
      "The swim range goes up to size 24 and is 100 per cent recyclable material\n",
      "\n",
      "@highlight\n",
      "\n",
      "The prints Australian ocean inspired designs and coral reef colours\n",
      "\n",
      "@highlight\n",
      "\n",
      "The swimwear is a collaboration with US brand Swim Sexy \n"
     ]
    }
   ],
   "source": [
    "print(get_full_article(456))"
   ]
  },
  {
   "cell_type": "code",
   "execution_count": 5,
   "metadata": {},
   "outputs": [
    {
     "name": "stdout",
     "output_type": "stream",
     "text": [
      "line_id 456: REF \n",
      "australian plus size model laura wells releases eco-friendly swimwear .\n",
      "the swim range goes up to size 24 and is 100 per cent recyclable material .\n",
      "the prints australian ocean inspired designs and coral reef colours .\n",
      "the swimwear is a collaboration with us brand swim sexy .\n",
      "===============\n",
      "model baseline \n",
      "model and environmental scientist uses figure to flaunt ocean inspired swimwear .\n",
      "the collection is inspired by the ocean , with coral reef scenes featuring throughout .\n",
      "the swimsuits cater for every shape , with sizes ranging from 10 through to 24 .\n",
      "===============\n",
      "model baseline_coverage \n",
      "the brunette bombshell has launched a new swimwear line with a twist - the eco-friendly collection is made entirely of 100 per cent recycled material .\n",
      "the brunette bombshell has launched a new swimwear line with a twist - the eco-friendly collection is made entirely of 100 per cent recycled material .\n",
      "===============\n",
      "model char_concate \n",
      "the collection is inspired by the ocean , with coral reef scenes featuring throughout .\n",
      "the collection is inspired by the ocean , with coral reef scenes featuring throughout .\n",
      "the collection is inspired by the ocean , with coral reef scenes featuring throughout .\n",
      "===============\n",
      "model char_concate_coverage \n",
      "model and environmental scientist laura wells uses figure to flaunt ocean inspired swimwear .\n",
      "the eco-friendly collection is made entirely of 100 per cent recycled material .\n",
      "the collection is inspired by the ocean , with coral reef scenes featuring throughout .\n",
      "===============\n",
      "model pos_concate \n",
      "model and environmental scientist laura wells uses figure to flaunt ocean inspired swimwear .\n",
      "the brunette bombshell has launched a new swimwear line with a twist - the eco-friendly collection is made entirely of 100 per cent recycled material .\n",
      "===============\n",
      "model pos_concate_coverage \n",
      "the brunette bombshell has launched a new swimwear line with a twist - the eco-friendly collection is made entirely of 100 per cent recycled material .\n",
      "the brunette bombshell has launched a new swimwear line with a twist - the eco-friendly collection is made entirely of 100 per cent recycled material .\n"
     ]
    }
   ],
   "source": [
    "compare_ref_decode(456, ['baseline', 'baseline_coverage', 'char_concate', 'char_concate_coverage', 'pos_concate', 'pos_concate_coverage'])"
   ]
  },
  {
   "cell_type": "code",
   "execution_count": null,
   "metadata": {},
   "outputs": [],
   "source": [
    "import sys\n",
    "sys.path.append('../pointer-generator/pos_tagger/')\n",
    "from pos_tagging import get_POS_tagged_sent"
   ]
  },
  {
   "cell_type": "code",
   "execution_count": null,
   "metadata": {},
   "outputs": [],
   "source": [
    "get_POS_tagged_sent('Model and environmental scientist Laura Wells uses figure to flaunt ocean inspired swimwear .'.split())"
   ]
  },
  {
   "cell_type": "code",
   "execution_count": null,
   "metadata": {},
   "outputs": [],
   "source": [
    "compare_ref_decode(4777, ['baseline', 'pos_encoder', 'char_concate'])"
   ]
  },
  {
   "cell_type": "code",
   "execution_count": null,
   "metadata": {},
   "outputs": [],
   "source": [
    "article = get_full_article(4978)"
   ]
  }
 ],
 "metadata": {
  "kernelspec": {
   "display_name": "Python 3",
   "language": "python",
   "name": "python3"
  },
  "language_info": {
   "codemirror_mode": {
    "name": "ipython",
    "version": 3
   },
   "file_extension": ".py",
   "mimetype": "text/x-python",
   "name": "python",
   "nbconvert_exporter": "python",
   "pygments_lexer": "ipython3",
   "version": "3.5.6"
  }
 },
 "nbformat": 4,
 "nbformat_minor": 2
}

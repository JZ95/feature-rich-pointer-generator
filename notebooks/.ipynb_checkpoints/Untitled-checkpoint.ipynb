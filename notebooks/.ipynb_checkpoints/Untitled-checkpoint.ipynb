{
 "cells": [
  {
   "cell_type": "code",
   "execution_count": 66,
   "metadata": {},
   "outputs": [],
   "source": [
    "import os\n",
    "import hashlib\n",
    "\n",
    "REF_FOLDER = '../cloud_data/baseline/decode_test_400maxenc_4beam_35mindec_100maxdec_ckpt-55092/reference/'\n",
    "URL_LIST_FILE = '../prepare_data/cnn-dailymail/url_lists/small_test.txt'\n",
    "CNN_STORY_DIR = '../prepare_data/cnn/stories/'\n",
    "DM_STORY_DIR = '../prepare_data/dailymail/stories/'\n",
    "\n",
    "CNN_STORY_HASH = set(os.listdir('../prepare_data/cnn/stories/'))\n",
    "DM_STORY_HASH = set(os.listdir('../prepare_data/dailymail/stories/'))\n",
    "\n",
    "with open(URL_LIST_FILE, 'r') as f:\n",
    "    URL_LIST = f.readlines()"
   ]
  },
  {
   "cell_type": "code",
   "execution_count": 73,
   "metadata": {},
   "outputs": [],
   "source": [
    "def compare_ref_decode(line_id, models):\n",
    "    ref_folder = REF_FOLDER\n",
    "    ref_path = os.path.join(ref_folder, '{:06d}_reference.txt'.format(line_id))\n",
    "    with open(ref_path, 'r') as f:\n",
    "        ref = ''.join(f.readlines())\n",
    "    print('line_id %d: REF ' % line_id)\n",
    "    print(ref)\n",
    "    for model in models:\n",
    "        model_path = os.path.join('../cloud_data/', model)\n",
    "        file_paths = os.listdir(model_path)\n",
    "        file_path = [path for path in file_paths if 'decode_test_400maxenc' in path][0]\n",
    "        decode_file_path = os.path.join(model_path, file_path, 'decoded', '{:06d}_decoded.txt'.format(line_id))\n",
    "        with open(decode_file_path, 'r') as f:\n",
    "            decode = ''.join(f.readlines())\n",
    "        print('=' * 15)\n",
    "        print('model %s ' % model)\n",
    "        print(decode)\n",
    "\n",
    "def get_full_article(line_id):\n",
    "    url = URL_LIST[line_id][:-1]\n",
    "    def hashhex(s):\n",
    "        \"\"\"Returns a heximal formated SHA1 hash of the input string.\"\"\"\n",
    "        h = hashlib.sha1()\n",
    "        h.update(s.encode())\n",
    "        return h.hexdigest()\n",
    "    story_filename = hashhex(url) + '.story'\n",
    "    if story_filename in CNN_STORY_HASH:\n",
    "        story_filename = os.path.join(CNN_STORY_DIR, story_filename)\n",
    "    elif story_filename in DM_STORY_HASH:\n",
    "        story_filename = os.path.join(DM_STORY_DIR, story_filename)\n",
    "    else:\n",
    "        raise ValueError\n",
    "    \n",
    "    with open(story_filename, 'r') as f:\n",
    "        return ''.join(f.readlines())"
   ]
  },
  {
   "cell_type": "markdown",
   "metadata": {},
   "source": [
    "# POS can handle name"
   ]
  },
  {
   "cell_type": "code",
   "execution_count": 75,
   "metadata": {},
   "outputs": [
    {
     "name": "stdout",
     "output_type": "stream",
     "text": [
      "line_id 456: REF \n",
      "australian plus size model laura wells releases eco-friendly swimwear .\n",
      "the swim range goes up to size 24 and is 100 per cent recyclable material .\n",
      "the prints australian ocean inspired designs and coral reef colours .\n",
      "the swimwear is a collaboration with us brand swim sexy .\n",
      "===============\n",
      "model baseline \n",
      "model and environmental scientist uses figure to flaunt ocean inspired swimwear .\n",
      "the collection is inspired by the ocean , with coral reef scenes featuring throughout .\n",
      "the swimsuits cater for every shape , with sizes ranging from 10 through to 24 .\n",
      "===============\n",
      "model baseline_coverage \n",
      "the brunette bombshell has launched a new swimwear line with a twist - the eco-friendly collection is made entirely of 100 per cent recycled material .\n",
      "the brunette bombshell has launched a new swimwear line with a twist - the eco-friendly collection is made entirely of 100 per cent recycled material .\n",
      "===============\n",
      "model pos_encoder \n",
      "model and environmental scientist laura wells uses figure to flaunt ocean inspired swimwear .\n",
      "the collection is inspired by the ocean , with coral reef scenes featuring throughout .\n",
      "the line includes one and two-piece suits , with zippers , criss-cross straps , plunging v-necklines and high-waisted bottoms .\n",
      "===============\n",
      "model char_concate \n",
      "the collection is inspired by the ocean , with coral reef scenes featuring throughout .\n",
      "the collection is inspired by the ocean , with coral reef scenes featuring throughout .\n",
      "the collection is inspired by the ocean , with coral reef scenes featuring throughout .\n"
     ]
    }
   ],
   "source": [
    "compare_ref_decode(456, ['baseline', 'baseline_coverage', 'pos_encoder', 'char_concate'])"
   ]
  },
  {
   "cell_type": "code",
   "execution_count": 43,
   "metadata": {},
   "outputs": [],
   "source": [
    "import sys\n",
    "sys.path.append('../pointer-generator/pos_tagger/')\n",
    "from pos_tagging import get_POS_tagged_sent"
   ]
  },
  {
   "cell_type": "code",
   "execution_count": 44,
   "metadata": {},
   "outputs": [
    {
     "data": {
      "text/plain": [
       "[[('Model', 'NN'),\n",
       "  ('and', 'CC'),\n",
       "  ('environmental', 'JJ'),\n",
       "  ('scientist', 'NN'),\n",
       "  ('Laura', 'NNP'),\n",
       "  ('Wells', 'NNP'),\n",
       "  ('uses', 'NNS'),\n",
       "  ('figure', 'NN'),\n",
       "  ('to', 'TO'),\n",
       "  ('flaunt', 'NN'),\n",
       "  ('ocean', 'JJ'),\n",
       "  ('inspired', 'VBD'),\n",
       "  ('swimwear', 'JJ'),\n",
       "  ('.', '.')]]"
      ]
     },
     "execution_count": 44,
     "metadata": {},
     "output_type": "execute_result"
    }
   ],
   "source": [
    "get_POS_tagged_sent('Model and environmental scientist Laura Wells uses figure to flaunt ocean inspired swimwear .'.split())"
   ]
  },
  {
   "cell_type": "code",
   "execution_count": 78,
   "metadata": {},
   "outputs": [
    {
     "name": "stdout",
     "output_type": "stream",
     "text": [
      "line_id 4777: REF \n",
      "preston defeat notts county 3-1 while mk dons beat doncaster 3-0 .\n",
      "with two games to go , preston are a point ahead of the dons .\n",
      "the two are competing to join champions bristol city in the championship .\n",
      "===============\n",
      "model baseline \n",
      "mk dons winger samir carruthers goes on the attack during his side 's 3-0 win over doncaster .\n",
      "preston remain in pole position to join champions bristol city in the championship next season .\n",
      "preston remain in pole position to join champions bristol city in the championship next season .\n",
      "===============\n",
      "model pos_encoder \n",
      "karl robinson hailed the patience of his team as they beat doncaster 3-0 to keep the heat on preston at the top of league one .\n",
      "robinson 's team needed a freakish goal by dean bowditch , 25 minutes from time , to break doncaster 's resistance and stay within a point of the automatic promotion places with two games .\n",
      "===============\n",
      "model char_concate \n",
      "mk dons boss karl robinson hailed the patience of his team as they beat doncaster 3-0 to keep the heat on preston at the top of league one .\n",
      "robinson 's team needed a freakish goal by dean bowditch , 25 minutes from time , to break doncaster 's resistance and stay within a point of the automatic promotion places with two games to play .\n",
      "mk dons winger samir carruthers goes on the attack during his side 's 3-0 win over doncaster .\n"
     ]
    }
   ],
   "source": [
    "compare_ref_decode(4777, ['baseline', 'pos_encoder', 'char_concate'])"
   ]
  },
  {
   "cell_type": "code",
   "execution_count": 74,
   "metadata": {},
   "outputs": [
    {
     "name": "stdout",
     "output_type": "stream",
     "text": [
      "Boston (CNN)Sending Boston Marathon bomber Dzhokhar Tsarnaev to prison for the rest of his life would bring years of punishment and rob him of martyrdom, jurors were told Monday.\n",
      "\n",
      "\"We have seen more pain and more horror and more grief in this courtroom than any of you would have thought possible,\" attorney David Bruck said as Tsarnaev's defense team began what could be a two-week campaign to avoid the death penalty.\n",
      "\n",
      "\"No punishment could ever be equal to the terrible effects of this crime on the survivors and the victims' families,\" he said. \"There is no evening of the scales. There is no point of trying to hurt him as he hurt because it can't be done. All we can do, all you can do is make the best choice.\"\n",
      "\n",
      "Bruck told jurors there are only two punishments for them to choose from: death, or life in prison without any possibility of parole.\n",
      "\n",
      "\"We are asking you to punish Jahar by imprisoning him for the rest of his life.\"\n",
      "\n",
      "Showing the court a photo of the federal Supermax prison in Colorado, Bruck said:\n",
      "\n",
      "\"This is where the government keeps other terrorists who used to be famous but aren't anymore. ... He goes here and he's forgotten. No more spotlight, like the death penalty brings.\n",
      "\n",
      "\"No interviews with the news media, no autobiography, no messages from Jahar on the Internet. No nothing.\n",
      "\n",
      "\"No martyrdom. Just years and years of punishment, day after day, as he grows up to deal with the lonely struggle of dealing with what he did.\n",
      "\n",
      "\"The evidence will show that if you sentence Jahar to a lifetime of thinking about what he did, you'll both punish him and protect society.\"\n",
      "\n",
      "Tsarnaev, 21, was convicted this month of all 30 counts against him; 17 of those counts carry the death penalty for the murders of four -- Krystle Campbell, 29; Lingzi Lu, 23; Martin Richard, 8; and Sean Collier, 26.\n",
      "\n",
      "In deciding whether the former college student is executed for his crimes or spends the rest of his days in a high-security federal prison, jurors must weigh the heinousness of his crime and the toll on his victims against so-called mitigating factors, such as his relative youth, mental health and family background, and whether or not he is remorseful.\n",
      "\n",
      "He has shown no emotion as he sits in court, and he has avoided eye contact with maimed bombing survivors and relatives of the dead.\n",
      "\n",
      "Last week, federal prosecutors presented three days of gut-wrenching victim impact testimony, including an array of images showing the victims as happy, active people and edited videos that added a soundtrack featuring a loud explosion, screams and panicked voices to the horrific bombing scene outside the Forum restaurant, where Richard and Lu died.\n",
      "\n",
      "Lead defense attorney Judy Clarke -- a nationally known death penalty opponent -- has acknowledged that Tsarnaev and his brother, Tamerlan, set off the bombs and shot MIT campus cop Collier. But she is expected to build a narrative showing her client as a puppet of his dominant older brother.\n",
      "\n",
      "Tamerlan Tsarnaev, who was 26, died in a gunbattle with Watertown, Massachusetts, police three days after the bombings.\n",
      "\n",
      "Clarke's colleague, Bruck, began that narrative in his opening statement by noting, \"The man who conceived, planned and led this crime is beyond our power to punish. Only the 19-year-old younger brother who helped is left.\n",
      "\n",
      "\"He was 19, nearly 20. But he was still at an age still legally too young to buy a beer. And an age when people make horribly bad, destructive decisions. What each of you will have to decide for yourself is how to weigh his young age as a mitigating factor.\"\n",
      "\n",
      "Bruck tried to use a photo prosecutors introduced last week -- showing Tsarnaev raising his middle finger at a surveillance camera in his federal courthouse cell -- to make his point.\n",
      "\n",
      "\"I could almost hear you gasp\" when that photo was displayed between images of bombing victims, Bruck said. \"It turned out that shocking gesture wasn't quite as advertised.\n",
      "\n",
      "\"What did he mean? It meant he was acting as an immature 19-year-old.\"\n",
      "\n",
      "Several members of Tsarnaev's family arrived in Boston over the weekend, but the defense is closely guarding its witness list. The relatives, who are at an undisclosed location after being forced to leave a suburban hotel, apparently do not include his parents, who divorced and returned to Dagestan before the April 15, 2013, bombings.\n",
      "\n",
      "Court filings indicate that the defense plans to call expert witness Janet Vogelsang, a sociologist, to explain Tsarnaev's difficult upbringing as the overlooked child of immigrants -- displaced Russian Muslims whose American dream failed.\n",
      "\n",
      "Under federal law, the jury's decision must be unanimous. A deadlocked jury would result in an automatic life sentence for Tsarnaev -- which means the defense only needs to convince one juror to spare his life.\n",
      "\n",
      "The Boston Globe reported over the weekend that fewer than 20% of those polled in Massachusetts favor the death penalty for Tsarnaev. The number is down substantially since the days after the bombings.\n",
      "\n",
      "@highlight\n",
      "\n",
      "Defense expected to show Dzhokhar Tsarnaev as a puppet of his dominant older brother\n",
      "\n",
      "@highlight\n",
      "\n",
      "A deadlocked jury would result in an automatic life sentence for Tsarnaev\n"
     ]
    }
   ],
   "source": [
    "article = get_full_article(4978)"
   ]
  }
 ],
 "metadata": {
  "kernelspec": {
   "display_name": "Python 3",
   "language": "python",
   "name": "python3"
  },
  "language_info": {
   "codemirror_mode": {
    "name": "ipython",
    "version": 3
   },
   "file_extension": ".py",
   "mimetype": "text/x-python",
   "name": "python",
   "nbconvert_exporter": "python",
   "pygments_lexer": "ipython3",
   "version": "3.5.6"
  }
 },
 "nbformat": 4,
 "nbformat_minor": 2
}
